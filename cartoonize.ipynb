{
  "nbformat": 4,
  "nbformat_minor": 0,
  "metadata": {
    "colab": {
      "name": "cartoonize.ipynb",
      "provenance": [],
      "collapsed_sections": [],
      "authorship_tag": "ABX9TyMzfYxHjvNf6kzdR/FZEjFR",
      "include_colab_link": true
    },
    "kernelspec": {
      "name": "python3",
      "display_name": "Python 3"
    },
    "language_info": {
      "name": "python"
    },
    "accelerator": "TPU"
  },
  "cells": [
    {
      "cell_type": "markdown",
      "metadata": {
        "id": "view-in-github",
        "colab_type": "text"
      },
      "source": [
        "<a href=\"https://colab.research.google.com/github/RITS98/IOT-Segregated-Pestiside-Distributor/blob/main/cartoonize.ipynb\" target=\"_parent\"><img src=\"https://colab.research.google.com/assets/colab-badge.svg\" alt=\"Open In Colab\"/></a>"
      ]
    },
    {
      "cell_type": "code",
      "metadata": {
        "colab": {
          "base_uri": "https://localhost:8080/"
        },
        "id": "goLBzbOGYYUW",
        "outputId": "1cb6f865-8076-4c22-e1b2-2a689577859b"
      },
      "source": [
        "%tensorflow_version 1.x"
      ],
      "execution_count": 3,
      "outputs": [
        {
          "output_type": "stream",
          "text": [
            "TensorFlow 1.x selected.\n"
          ],
          "name": "stdout"
        }
      ]
    },
    {
      "cell_type": "code",
      "metadata": {
        "colab": {
          "base_uri": "https://localhost:8080/"
        },
        "id": "XzjJHT3sYdFx",
        "outputId": "dd037bb2-95dc-4123-c210-fa84b7e4cf7f"
      },
      "source": [
        "import tensorflow\n",
        "print (tensorflow.__version__)"
      ],
      "execution_count": 4,
      "outputs": [
        {
          "output_type": "stream",
          "text": [
            "1.15.2\n"
          ],
          "name": "stdout"
        }
      ]
    },
    {
      "cell_type": "code",
      "metadata": {
        "colab": {
          "base_uri": "https://localhost:8080/"
        },
        "id": "TCk5ubNIYiT-",
        "outputId": "86916d10-5f85-4870-bad7-fc57148b30b6"
      },
      "source": [
        "import os\n",
        "import cv2\n",
        "import numpy as np\n",
        "import tensorflow as tf \n",
        "import network\n",
        "import guided_filter\n",
        "from tqdm import tqdm\n",
        "from IPython.display import Image"
      ],
      "execution_count": 5,
      "outputs": [
        {
          "output_type": "stream",
          "text": [
            "WARNING:tensorflow:\n",
            "The TensorFlow contrib module will not be included in TensorFlow 2.0.\n",
            "For more information, please see:\n",
            "  * https://github.com/tensorflow/community/blob/master/rfcs/20180907-contrib-sunset.md\n",
            "  * https://github.com/tensorflow/addons\n",
            "  * https://github.com/tensorflow/io (for I/O related ops)\n",
            "If you depend on functionality not listed there, please file an issue.\n",
            "\n"
          ],
          "name": "stdout"
        }
      ]
    },
    {
      "cell_type": "code",
      "metadata": {
        "id": "zdHJTDs7Y1YO"
      },
      "source": [
        "def resize_crop(image):\n",
        "    h, w, c = np.shape(image)\n",
        "    if min(h, w) > 720:\n",
        "        if h > w:\n",
        "            h, w = int(720*h/w), 720\n",
        "        else:\n",
        "            h, w = 720, int(720*w/h)\n",
        "    image = cv2.resize(image, (w, h),\n",
        "                       interpolation=cv2.INTER_AREA)\n",
        "    h, w = (h//8)*8, (w//8)*8\n",
        "    image = image[:h, :w, :]\n",
        "    return image"
      ],
      "execution_count": 6,
      "outputs": []
    },
    {
      "cell_type": "code",
      "metadata": {
        "id": "e1jIUS0lZJCt"
      },
      "source": [
        "def cartoonize(load_folder, save_folder, model_path):\n",
        "    input_photo = tf.placeholder(tf.float32, [1, None, None, 3])\n",
        "    network_out = network.unet_generator(input_photo)\n",
        "    final_out = guided_filter.guided_filter(input_photo, network_out, r=1, eps=5e-3)\n",
        "\n",
        "    all_vars = tf.trainable_variables()\n",
        "    gene_vars = [var for var in all_vars if 'generator' in var.name]\n",
        "    saver = tf.train.Saver(var_list=gene_vars)\n",
        "    \n",
        "    config = tf.ConfigProto()\n",
        "    config.gpu_options.allow_growth = True\n",
        "    sess = tf.Session(config=config)\n",
        "\n",
        "    sess.run(tf.global_variables_initializer())\n",
        "    saver.restore(sess, tf.train.latest_checkpoint(model_path))\n",
        "    name_list = os.listdir(load_folder)\n",
        "    for name in tqdm(name_list):\n",
        "        try:\n",
        "            load_path = os.path.join(load_folder, name)\n",
        "            save_path = os.path.join(save_folder, name)\n",
        "            image = cv2.imread(load_path)\n",
        "            image = resize_crop(image)\n",
        "            batch_image = image.astype(np.float32)/127.5 - 1\n",
        "            batch_image = np.expand_dims(batch_image, axis=0)\n",
        "            output = sess.run(final_out, feed_dict={input_photo: batch_image})\n",
        "            output = (np.squeeze(output)+1)*127.5\n",
        "            output = np.clip(output, 0, 255).astype(np.uint8)\n",
        "            cv2.imwrite(save_path, output)\n",
        "        \n",
        "        except:\n",
        "            print('cartoonize {} failed'.format(load_path))"
      ],
      "execution_count": 7,
      "outputs": []
    },
    {
      "cell_type": "code",
      "metadata": {
        "id": "0-1ZcKk6ZT7v"
      },
      "source": [
        "model_path = 'saved_models'\n",
        "load_folder = 'test_images'\n",
        "save_folder = 'cartoonized_images'"
      ],
      "execution_count": 8,
      "outputs": []
    },
    {
      "cell_type": "code",
      "metadata": {
        "colab": {
          "base_uri": "https://localhost:8080/"
        },
        "id": "bEQM5UlVZcQf",
        "outputId": "b1c5734f-3cf4-477d-ed12-cb97f94b4584"
      },
      "source": [
        "if not os.path.exists(save_folder):\n",
        "  os.mkdir(save_folder)\n",
        "\n",
        "cartoonize(load_folder, save_folder, model_path)"
      ],
      "execution_count": 9,
      "outputs": [
        {
          "output_type": "stream",
          "text": [
            "WARNING:tensorflow:From /content/network.py:23: The name tf.variable_scope is deprecated. Please use tf.compat.v1.variable_scope instead.\n",
            "\n",
            "WARNING:tensorflow:From /tensorflow-1.15.2/python3.7/tensorflow_core/contrib/layers/python/layers/layers.py:1057: Layer.apply (from tensorflow.python.keras.engine.base_layer) is deprecated and will be removed in a future version.\n",
            "Instructions for updating:\n",
            "Please use `layer.__call__` method instead.\n",
            "WARNING:tensorflow:From /content/network.py:45: The name tf.image.resize_bilinear is deprecated. Please use tf.compat.v1.image.resize_bilinear instead.\n",
            "\n",
            "INFO:tensorflow:Restoring parameters from saved_models/model-33999\n"
          ],
          "name": "stdout"
        },
        {
          "output_type": "stream",
          "text": [
            "100%|██████████| 13/13 [00:52<00:00,  4.08s/it]\n"
          ],
          "name": "stderr"
        }
      ]
    },
    {
      "cell_type": "code",
      "metadata": {
        "colab": {
          "base_uri": "https://localhost:8080/"
        },
        "id": "iistI_WyfOTA",
        "outputId": "f79694e5-1261-4f67-a3e6-51664a508f90"
      },
      "source": [
        "!zip -r /content/file.zip /content/cartoonized_images"
      ],
      "execution_count": 10,
      "outputs": [
        {
          "output_type": "stream",
          "text": [
            "  adding: content/cartoonized_images/ (stored 0%)\n",
            "  adding: content/cartoonized_images/national_park1.jpg (deflated 0%)\n",
            "  adding: content/cartoonized_images/food6.jpg (deflated 0%)\n",
            "  adding: content/cartoonized_images/party7.jpg (deflated 0%)\n",
            "  adding: content/cartoonized_images/mountain5.jpg (deflated 0%)\n",
            "  adding: content/cartoonized_images/china6.jpg (deflated 0%)\n",
            "  adding: content/cartoonized_images/london1.jpg (deflated 0%)\n",
            "  adding: content/cartoonized_images/food16.jpg (deflated 0%)\n",
            "  adding: content/cartoonized_images/mountain4.jpg (deflated 0%)\n",
            "  adding: content/cartoonized_images/ishita2.jpg (deflated 0%)\n",
            "  adding: content/cartoonized_images/ishita1.jpg (deflated 0%)\n",
            "  adding: content/cartoonized_images/party5.jpg (deflated 0%)\n",
            "  adding: content/cartoonized_images/actress2.jpg (deflated 0%)\n",
            "  adding: content/cartoonized_images/liuyifei4.jpg (deflated 0%)\n"
          ],
          "name": "stdout"
        }
      ]
    },
    {
      "cell_type": "code",
      "metadata": {
        "colab": {
          "base_uri": "https://localhost:8080/",
          "height": 17
        },
        "id": "Pui190WMgx-5",
        "outputId": "01902e9f-7c5a-499e-e010-7a4c70a777d2"
      },
      "source": [
        "from google.colab import files\n",
        "files.download(\"/content/file.zip\")"
      ],
      "execution_count": 11,
      "outputs": [
        {
          "output_type": "display_data",
          "data": {
            "application/javascript": [
              "\n",
              "    async function download(id, filename, size) {\n",
              "      if (!google.colab.kernel.accessAllowed) {\n",
              "        return;\n",
              "      }\n",
              "      const div = document.createElement('div');\n",
              "      const label = document.createElement('label');\n",
              "      label.textContent = `Downloading \"${filename}\": `;\n",
              "      div.appendChild(label);\n",
              "      const progress = document.createElement('progress');\n",
              "      progress.max = size;\n",
              "      div.appendChild(progress);\n",
              "      document.body.appendChild(div);\n",
              "\n",
              "      const buffers = [];\n",
              "      let downloaded = 0;\n",
              "\n",
              "      const channel = await google.colab.kernel.comms.open(id);\n",
              "      // Send a message to notify the kernel that we're ready.\n",
              "      channel.send({})\n",
              "\n",
              "      for await (const message of channel.messages) {\n",
              "        // Send a message to notify the kernel that we're ready.\n",
              "        channel.send({})\n",
              "        if (message.buffers) {\n",
              "          for (const buffer of message.buffers) {\n",
              "            buffers.push(buffer);\n",
              "            downloaded += buffer.byteLength;\n",
              "            progress.value = downloaded;\n",
              "          }\n",
              "        }\n",
              "      }\n",
              "      const blob = new Blob(buffers, {type: 'application/binary'});\n",
              "      const a = document.createElement('a');\n",
              "      a.href = window.URL.createObjectURL(blob);\n",
              "      a.download = filename;\n",
              "      div.appendChild(a);\n",
              "      a.click();\n",
              "      div.remove();\n",
              "    }\n",
              "  "
            ],
            "text/plain": [
              "<IPython.core.display.Javascript object>"
            ]
          },
          "metadata": {
            "tags": []
          }
        },
        {
          "output_type": "display_data",
          "data": {
            "application/javascript": [
              "download(\"download_bc5686b6-4579-43fd-bea8-9e3ae673525d\", \"file.zip\", 2570553)"
            ],
            "text/plain": [
              "<IPython.core.display.Javascript object>"
            ]
          },
          "metadata": {
            "tags": []
          }
        }
      ]
    },
    {
      "cell_type": "code",
      "metadata": {
        "id": "Rsiy_UOAg1OP"
      },
      "source": [
        ""
      ],
      "execution_count": null,
      "outputs": []
    }
  ]
}